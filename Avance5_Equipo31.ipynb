{
  "nbformat": 4,
  "nbformat_minor": 0,
  "metadata": {
    "colab": {
      "provenance": []
    },
    "kernelspec": {
      "name": "python3",
      "display_name": "Python 3"
    },
    "language_info": {
      "name": "python"
    }
  },
  "cells": [
    {
      "cell_type": "markdown",
      "source": [
        "Maestría en Inteligencia Artificial Aplicada\n",
        "\n",
        "PROYECTO INTEGRADOR\n",
        "\n",
        "Avance 5. Modelo final\n",
        "\n",
        "Equipo 31\n",
        "\n",
        "JUAN CARLOS VILLAMIL ROJAS A01794003\n",
        "\n",
        "MATEO CRUZ LANCHERO A01793882\n",
        "\n",
        "ANDREA MARGARITA OSORIO GONZÁLEZ A01104776"
      ],
      "metadata": {
        "id": "W7xYTklbPgrN"
      }
    },
    {
      "cell_type": "code",
      "source": [],
      "metadata": {
        "id": "d84ZvVohPwC7"
      },
      "execution_count": null,
      "outputs": []
    },
    {
      "cell_type": "code",
      "execution_count": null,
      "metadata": {
        "id": "jBhjBcEyPXdI"
      },
      "outputs": [],
      "source": []
    }
  ]
}